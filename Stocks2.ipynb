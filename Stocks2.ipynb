{
 "cells": [
  {
   "cell_type": "code",
   "execution_count": 2,
   "metadata": {},
   "outputs": [],
   "source": [
    "import requests\n",
    "import json"
   ]
  },
  {
   "cell_type": "code",
   "execution_count": null,
   "metadata": {},
   "outputs": [],
   "source": [
    "url = \"https://yfapi.net/v6/finance/quote\"\n",
    "# https://www.yahoofinanceapi.com/tutorial\n",
    "shares = ['SOXX', 'FIVG', 'LIT', 'TSLA', 'MELI', 'AAPL', 'AMZN', 'X', 'QCOM', 'NVDA']\n",
    "querystring = {\"symbols\": ','.join(shares)}\n",
    "credentials = json.load(open('H:\\My Drive\\Formacion\\Data Science\\APIs\\API_Key yfapi.json'))\n",
    "API_Key = credentials['API_Key'][0]\n",
    "\n",
    "headers = {\n",
    "    'x-api-key': API_Key \n",
    "    }\n",
    "\n",
    "response = requests.request(\"GET\", url, headers=headers, params=querystring)\n",
    "\n",
    "print(response.text)"
   ]
  },
  {
   "cell_type": "code",
   "execution_count": 151,
   "metadata": {},
   "outputs": [
    {
     "name": "stdout",
     "output_type": "stream",
     "text": [
      "(\"SOXX\",\"FIVG\",\"LIT\",\"TSLA\",\"MELI\",\"AAPL\",\"AMZN\",\"X\",\"QCOM\",\"NVDA\")\n"
     ]
    }
   ],
   "source": [
    "print('(\"'+'\",\"'.join(shares)+'\")')"
   ]
  },
  {
   "cell_type": "code",
   "execution_count": 97,
   "metadata": {},
   "outputs": [],
   "source": [
    "values_interest = ['symbol', 'shortName', 'longName', 'fiftyDayAverage', 'fiftyTwoWeekHigh', 'fiftyTwoWeekRange', 'twoHundredDayAverage', 'marketCap', 'quoteType', 'regularMarketDayHigh', 'regularMarketDayLow', 'regularMarketPrice', 'ytdReturn']"
   ]
  },
  {
   "cell_type": "code",
   "execution_count": 166,
   "metadata": {},
   "outputs": [],
   "source": [
    "values = json.loads(response.text)['quoteResponse']['result']"
   ]
  },
  {
   "cell_type": "code",
   "execution_count": 79,
   "metadata": {},
   "outputs": [],
   "source": [
    "# values = lista con 2 diccionarios"
   ]
  },
  {
   "cell_type": "code",
   "execution_count": 141,
   "metadata": {},
   "outputs": [],
   "source": [
    "for result in json.loads(response.text)['quoteResponse']['result']:\n",
    "    print (result['symbol'])"
   ]
  },
  {
   "cell_type": "code",
   "execution_count": 172,
   "metadata": {},
   "outputs": [],
   "source": [
    "def get_ppal_values(symbol):\n",
    "    '''Enables you to get most important values of an asset'''\n",
    "    for result in values:\n",
    "        if result['symbol'] == symbol:\n",
    "            for key in values_interest:\n",
    "                try:\n",
    "                    print(key,':', result[key])\n",
    "                except:\n",
    "                    print(key+':', \"N/A\")\n",
    "        else:\n",
    "            pass"
   ]
  },
  {
   "cell_type": "code",
   "execution_count": 170,
   "metadata": {},
   "outputs": [
    {
     "name": "stdout",
     "output_type": "stream",
     "text": [
      "symbol : TSLA\n",
      "shortName : Tesla, Inc.\n",
      "longName : Tesla, Inc.\n",
      "fiftyDayAverage : 917.374\n",
      "fiftyTwoWeekHigh : 1243.49\n",
      "fiftyTwoWeekRange : 501.79 - 1243.49\n",
      "twoHundredDayAverage : 736.90594\n",
      "marketCap : 1141903851520\n",
      "quoteType : EQUITY\n",
      "regularMarketDayHigh : 1138.7198\n",
      "regularMarketDayLow : 1092.7001\n",
      "regularMarketPrice : 1137.06\n",
      "ytdReturn: N/A\n"
     ]
    }
   ],
   "source": [
    "get_ppal_values('TSLA')"
   ]
  }
 ],
 "metadata": {
  "interpreter": {
   "hash": "b3ba2566441a7c06988d0923437866b63cedc61552a5af99d1f4fb67d367b25f"
  },
  "kernelspec": {
   "display_name": "Python 3.8.8 64-bit ('base': conda)",
   "language": "python",
   "name": "python3"
  },
  "language_info": {
   "codemirror_mode": {
    "name": "ipython",
    "version": 3
   },
   "file_extension": ".py",
   "mimetype": "text/x-python",
   "name": "python",
   "nbconvert_exporter": "python",
   "pygments_lexer": "ipython3",
   "version": "3.8.8"
  },
  "orig_nbformat": 4
 },
 "nbformat": 4,
 "nbformat_minor": 2
}
