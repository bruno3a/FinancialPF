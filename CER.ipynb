{
 "cells": [
  {
   "cell_type": "markdown",
   "metadata": {},
   "source": [
    "Source = https://www.errepar.com/tablas-cer"
   ]
  },
  {
   "cell_type": "code",
   "execution_count": 30,
   "metadata": {},
   "outputs": [],
   "source": [
    "import pandas as pd\n",
    "import numpy as np\n",
    "import os\n",
    "import matplotlib.pyplot as plt\n",
    "from scipy import stats\n",
    "import datetime as dt"
   ]
  },
  {
   "cell_type": "code",
   "execution_count": 69,
   "metadata": {},
   "outputs": [],
   "source": [
    "#df_cer = pd.read_csv('../DataSets Grandes/Historicos Economicos/CER.csv', sep=';')\n",
    "df_cer = pd.read_csv('https://infra.datos.gob.ar/catalog/sspm/dataset/94/distribution/94.2/download/cer-uva-uvi-diarios.csv', sep=',')"
   ]
  },
  {
   "cell_type": "code",
   "execution_count": 82,
   "metadata": {},
   "outputs": [
    {
     "data": {
      "text/html": [
       "<div>\n",
       "<style scoped>\n",
       "    .dataframe tbody tr th:only-of-type {\n",
       "        vertical-align: middle;\n",
       "    }\n",
       "\n",
       "    .dataframe tbody tr th {\n",
       "        vertical-align: top;\n",
       "    }\n",
       "\n",
       "    .dataframe thead th {\n",
       "        text-align: right;\n",
       "    }\n",
       "</style>\n",
       "<table border=\"1\" class=\"dataframe\">\n",
       "  <thead>\n",
       "    <tr style=\"text-align: right;\">\n",
       "      <th></th>\n",
       "      <th>Date</th>\n",
       "      <th>CER</th>\n",
       "      <th>UVA</th>\n",
       "      <th>UVI</th>\n",
       "    </tr>\n",
       "  </thead>\n",
       "  <tbody>\n",
       "    <tr>\n",
       "      <th>6695</th>\n",
       "      <td>01-05-2021</td>\n",
       "      <td>29.740517</td>\n",
       "      <td>74.99</td>\n",
       "      <td>77.73</td>\n",
       "    </tr>\n",
       "    <tr>\n",
       "      <th>6726</th>\n",
       "      <td>01-06-2021</td>\n",
       "      <td>31.075648</td>\n",
       "      <td>78.37</td>\n",
       "      <td>80.82</td>\n",
       "    </tr>\n",
       "    <tr>\n",
       "      <th>6756</th>\n",
       "      <td>01-07-2021</td>\n",
       "      <td>32.197440</td>\n",
       "      <td>81.22</td>\n",
       "      <td>84.52</td>\n",
       "    </tr>\n",
       "    <tr>\n",
       "      <th>6787</th>\n",
       "      <td>01-08-2021</td>\n",
       "      <td>33.258546</td>\n",
       "      <td>83.82</td>\n",
       "      <td>86.45</td>\n",
       "    </tr>\n",
       "    <tr>\n",
       "      <th>6818</th>\n",
       "      <td>01-09-2021</td>\n",
       "      <td>34.286327</td>\n",
       "      <td>86.50</td>\n",
       "      <td>89.21</td>\n",
       "    </tr>\n",
       "  </tbody>\n",
       "</table>\n",
       "</div>"
      ],
      "text/plain": [
       "            Date        CER    UVA    UVI\n",
       "6695  01-05-2021  29.740517  74.99  77.73\n",
       "6726  01-06-2021  31.075648  78.37  80.82\n",
       "6756  01-07-2021  32.197440  81.22  84.52\n",
       "6787  01-08-2021  33.258546  83.82  86.45\n",
       "6818  01-09-2021  34.286327  86.50  89.21"
      ]
     },
     "execution_count": 82,
     "metadata": {},
     "output_type": "execute_result"
    }
   ],
   "source": [
    "df_cer.tail()"
   ]
  },
  {
   "cell_type": "code",
   "execution_count": 16,
   "metadata": {},
   "outputs": [
    {
     "data": {
      "text/plain": [
       "(6848, 4)"
      ]
     },
     "execution_count": 16,
     "metadata": {},
     "output_type": "execute_result"
    }
   ],
   "source": [
    "df_cer.shape"
   ]
  },
  {
   "cell_type": "code",
   "execution_count": 70,
   "metadata": {},
   "outputs": [],
   "source": [
    "df_cer.columns = ['Date', 'CER', 'UVA', 'UVI']"
   ]
  },
  {
   "cell_type": "code",
   "execution_count": 71,
   "metadata": {},
   "outputs": [],
   "source": [
    "df_cer.Date = pd.to_datetime(df_cer.Date)"
   ]
  },
  {
   "cell_type": "code",
   "execution_count": 72,
   "metadata": {},
   "outputs": [
    {
     "data": {
      "text/plain": [
       "[0, 31, 59, 90, 120, 151, 181, 212, 243, 273]"
      ]
     },
     "execution_count": 72,
     "metadata": {},
     "output_type": "execute_result"
    }
   ],
   "source": [
    "# We should keep 1 per month. About 200 values representing one for each month\n",
    "date_indexes = []\n",
    "for i, j in zip(df_cer.index, df_cer.Date):\n",
    "    if j.day == 1:\n",
    "        date_indexes.append(i)\n",
    "    else:\n",
    "         pass\n",
    "date_indexes[:10]"
   ]
  },
  {
   "cell_type": "code",
   "execution_count": 73,
   "metadata": {},
   "outputs": [],
   "source": [
    "df_cer_exp = df_cer\n",
    "df_cer_exp.Date = df_cer_exp.Date.dt.strftime('%d-%m-%Y')"
   ]
  },
  {
   "cell_type": "code",
   "execution_count": 78,
   "metadata": {},
   "outputs": [
    {
     "data": {
      "text/html": [
       "<div>\n",
       "<style scoped>\n",
       "    .dataframe tbody tr th:only-of-type {\n",
       "        vertical-align: middle;\n",
       "    }\n",
       "\n",
       "    .dataframe tbody tr th {\n",
       "        vertical-align: top;\n",
       "    }\n",
       "\n",
       "    .dataframe thead th {\n",
       "        text-align: right;\n",
       "    }\n",
       "</style>\n",
       "<table border=\"1\" class=\"dataframe\">\n",
       "  <thead>\n",
       "    <tr style=\"text-align: right;\">\n",
       "      <th></th>\n",
       "      <th>Date</th>\n",
       "      <th>CER</th>\n",
       "      <th>UVA</th>\n",
       "      <th>UVI</th>\n",
       "    </tr>\n",
       "  </thead>\n",
       "  <tbody>\n",
       "    <tr>\n",
       "      <th>0</th>\n",
       "      <td>01-01-2003</td>\n",
       "      <td>1.405500</td>\n",
       "      <td>NaN</td>\n",
       "      <td>NaN</td>\n",
       "    </tr>\n",
       "    <tr>\n",
       "      <th>1</th>\n",
       "      <td>02-01-2003</td>\n",
       "      <td>1.405800</td>\n",
       "      <td>NaN</td>\n",
       "      <td>NaN</td>\n",
       "    </tr>\n",
       "    <tr>\n",
       "      <th>2</th>\n",
       "      <td>03-01-2003</td>\n",
       "      <td>1.406000</td>\n",
       "      <td>NaN</td>\n",
       "      <td>NaN</td>\n",
       "    </tr>\n",
       "    <tr>\n",
       "      <th>3</th>\n",
       "      <td>04-01-2003</td>\n",
       "      <td>1.406200</td>\n",
       "      <td>NaN</td>\n",
       "      <td>NaN</td>\n",
       "    </tr>\n",
       "    <tr>\n",
       "      <th>4</th>\n",
       "      <td>05-01-2003</td>\n",
       "      <td>1.406400</td>\n",
       "      <td>NaN</td>\n",
       "      <td>NaN</td>\n",
       "    </tr>\n",
       "    <tr>\n",
       "      <th>...</th>\n",
       "      <td>...</td>\n",
       "      <td>...</td>\n",
       "      <td>...</td>\n",
       "      <td>...</td>\n",
       "    </tr>\n",
       "    <tr>\n",
       "      <th>6843</th>\n",
       "      <td>26-09-2021</td>\n",
       "      <td>35.063115</td>\n",
       "      <td>88.40</td>\n",
       "      <td>91.74</td>\n",
       "    </tr>\n",
       "    <tr>\n",
       "      <th>6844</th>\n",
       "      <td>27-09-2021</td>\n",
       "      <td>35.091987</td>\n",
       "      <td>88.40</td>\n",
       "      <td>91.74</td>\n",
       "    </tr>\n",
       "    <tr>\n",
       "      <th>6845</th>\n",
       "      <td>28-09-2021</td>\n",
       "      <td>35.120883</td>\n",
       "      <td>88.62</td>\n",
       "      <td>91.92</td>\n",
       "    </tr>\n",
       "    <tr>\n",
       "      <th>6846</th>\n",
       "      <td>29-09-2021</td>\n",
       "      <td>35.149802</td>\n",
       "      <td>88.69</td>\n",
       "      <td>91.98</td>\n",
       "    </tr>\n",
       "    <tr>\n",
       "      <th>6847</th>\n",
       "      <td>30-09-2021</td>\n",
       "      <td>35.178746</td>\n",
       "      <td>88.76</td>\n",
       "      <td>92.04</td>\n",
       "    </tr>\n",
       "  </tbody>\n",
       "</table>\n",
       "<p>6848 rows × 4 columns</p>\n",
       "</div>"
      ],
      "text/plain": [
       "            Date        CER    UVA    UVI\n",
       "0     01-01-2003   1.405500    NaN    NaN\n",
       "1     02-01-2003   1.405800    NaN    NaN\n",
       "2     03-01-2003   1.406000    NaN    NaN\n",
       "3     04-01-2003   1.406200    NaN    NaN\n",
       "4     05-01-2003   1.406400    NaN    NaN\n",
       "...          ...        ...    ...    ...\n",
       "6843  26-09-2021  35.063115  88.40  91.74\n",
       "6844  27-09-2021  35.091987  88.40  91.74\n",
       "6845  28-09-2021  35.120883  88.62  91.92\n",
       "6846  29-09-2021  35.149802  88.69  91.98\n",
       "6847  30-09-2021  35.178746  88.76  92.04\n",
       "\n",
       "[6848 rows x 4 columns]"
      ]
     },
     "execution_count": 78,
     "metadata": {},
     "output_type": "execute_result"
    }
   ],
   "source": [
    "df_cer_exp"
   ]
  },
  {
   "cell_type": "code",
   "execution_count": 79,
   "metadata": {},
   "outputs": [],
   "source": [
    "# Keep original full values\n",
    "df_cer_exp.to_csv('H:\\My Drive\\Formacion\\Data Science\\Financial\\FinancialPF\\CSVs\\CER.csv', index=False)"
   ]
  },
  {
   "cell_type": "code",
   "execution_count": 80,
   "metadata": {},
   "outputs": [],
   "source": [
    "df_cer = df_cer.iloc[date_indexes] #Keeping only the first value of the month"
   ]
  },
  {
   "cell_type": "code",
   "execution_count": 81,
   "metadata": {},
   "outputs": [
    {
     "data": {
      "text/plain": [
       "0       01-01-2003\n",
       "31      01-02-2003\n",
       "59      01-03-2003\n",
       "90      01-04-2003\n",
       "120     01-05-2003\n",
       "           ...    \n",
       "6695    01-05-2021\n",
       "6726    01-06-2021\n",
       "6756    01-07-2021\n",
       "6787    01-08-2021\n",
       "6818    01-09-2021\n",
       "Name: Date, Length: 225, dtype: object"
      ]
     },
     "execution_count": 81,
     "metadata": {},
     "output_type": "execute_result"
    }
   ],
   "source": [
    "df_cer.Date"
   ]
  },
  {
   "cell_type": "code",
   "execution_count": 59,
   "metadata": {},
   "outputs": [
    {
     "data": {
      "image/png": "[encoded data removed]",
      "text/plain": [
       "<Figure size 1872x720 with 1 Axes>"
      ]
     },
     "metadata": {
      "needs_background": "light"
     },
     "output_type": "display_data"
    }
   ],
   "source": [
    "plt.figure(figsize=(26,10))\n",
    "plt.scatter(df_cer.Date, df_cer.CER)\n",
    "plt.show()"
   ]
  },
  {
   "cell_type": "code",
   "execution_count": null,
   "metadata": {},
   "outputs": [],
   "source": [
    "# Print yearly boxplot to identify if any outliers for each month"
   ]
  },
  {
   "cell_type": "code",
   "execution_count": 13,
   "metadata": {},
   "outputs": [],
   "source": [
    "#df_cer.to_csv('H:\\My Drive\\Formacion\\Data Science\\Financial\\FinancialPF\\CSVs\\curated_CER.csv', index=False)"
   ]
  }
 ],
 "metadata": {
  "interpreter": {
   "hash": "b3ba2566441a7c06988d0923437866b63cedc61552a5af99d1f4fb67d367b25f"
  },
  "kernelspec": {
   "display_name": "Python 3.8.8 64-bit ('base': conda)",
   "name": "python3"
  },
  "language_info": {
   "codemirror_mode": {
    "name": "ipython",
    "version": 3
   },
   "file_extension": ".py",
   "mimetype": "text/x-python",
   "name": "python",
   "nbconvert_exporter": "python",
   "pygments_lexer": "ipython3",
   "version": "3.8.8"
  }
 },
 "nbformat": 4,
 "nbformat_minor": 4
}
