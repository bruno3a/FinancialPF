{
 "cells": [
  {
   "cell_type": "code",
   "execution_count": 1,
   "metadata": {},
   "outputs": [],
   "source": [
    "import pandas as pd\n",
    "import numpy as np\n",
    "import os\n",
    "import matplotlib.pyplot as plt\n",
    "import datetime as dt\n",
    "import requests\n",
    "import json"
   ]
  },
  {
   "cell_type": "code",
   "execution_count": 2,
   "metadata": {},
   "outputs": [],
   "source": [
    "now = dt.datetime.now()\n",
    "date_today = str(now.day)+'-'+str(now.month)+'-'+str(now.year)\n",
    "date_start = '02-01-2019'"
   ]
  },
  {
   "cell_type": "markdown",
   "metadata": {},
   "source": [
    "# In case of scraping the web"
   ]
  },
  {
   "cell_type": "code",
   "execution_count": 2,
   "metadata": {},
   "outputs": [],
   "source": [
    "#base_html = 'C://Users//bruno//Documents//DS//DataSets Grandes//Historicos Economicos//MEP Historico.html'\n",
    "base_html = 'H://My Drive//Formacion//Data Science//Financial//FinancialPF//Web Sites//MEP Histórico.html'"
   ]
  },
  {
   "cell_type": "markdown",
   "metadata": {},
   "source": [
    "Fuente: https://www.ambito.com/contenidos/dolar-mep-historico.html"
   ]
  },
  {
   "cell_type": "code",
   "execution_count": 3,
   "metadata": {},
   "outputs": [
    {
     "data": {
      "text/html": [
       "<div>\n",
       "<style scoped>\n",
       "    .dataframe tbody tr th:only-of-type {\n",
       "        vertical-align: middle;\n",
       "    }\n",
       "\n",
       "    .dataframe tbody tr th {\n",
       "        vertical-align: top;\n",
       "    }\n",
       "\n",
       "    .dataframe thead th {\n",
       "        text-align: right;\n",
       "    }\n",
       "</style>\n",
       "<table border=\"1\" class=\"dataframe\">\n",
       "  <thead>\n",
       "    <tr style=\"text-align: right;\">\n",
       "      <th></th>\n",
       "      <th>Fecha</th>\n",
       "      <th>Referencia</th>\n",
       "    </tr>\n",
       "  </thead>\n",
       "  <tbody>\n",
       "    <tr>\n",
       "      <th>0</th>\n",
       "      <td>05-11-2021</td>\n",
       "      <td>18126</td>\n",
       "    </tr>\n",
       "    <tr>\n",
       "      <th>1</th>\n",
       "      <td>04-11-2021</td>\n",
       "      <td>18056</td>\n",
       "    </tr>\n",
       "    <tr>\n",
       "      <th>2</th>\n",
       "      <td>03-11-2021</td>\n",
       "      <td>18007</td>\n",
       "    </tr>\n",
       "    <tr>\n",
       "      <th>3</th>\n",
       "      <td>02-11-2021</td>\n",
       "      <td>17932</td>\n",
       "    </tr>\n",
       "    <tr>\n",
       "      <th>4</th>\n",
       "      <td>01-11-2021</td>\n",
       "      <td>17922</td>\n",
       "    </tr>\n",
       "  </tbody>\n",
       "</table>\n",
       "</div>"
      ],
      "text/plain": [
       "        Fecha  Referencia\n",
       "0  05-11-2021       18126\n",
       "1  04-11-2021       18056\n",
       "2  03-11-2021       18007\n",
       "3  02-11-2021       17932\n",
       "4  01-11-2021       17922"
      ]
     },
     "execution_count": 3,
     "metadata": {},
     "output_type": "execute_result"
    }
   ],
   "source": [
    "mep_hist = pd.read_html(base_html) # this parses all the tables in webpages to a list\n",
    "df_MEP = mep_hist[0]\n",
    "df_MEP.head() # Values are int without decimals, which is incorrect due to the real value's nature"
   ]
  },
  {
   "cell_type": "code",
   "execution_count": 4,
   "metadata": {},
   "outputs": [],
   "source": [
    "def decimals(df, column='Value'):\n",
    "    '''Converts integer value into float considering last 2 numbers as decimals. df parameter to specify df, column parameter to specify target column of df'''\n",
    "    new_value_list = []\n",
    "    for value in df[column]:\n",
    "        ss1, ss2 = str(value)[:-2], str(value)[-2:] # Slicing the value as string to get separated the number\n",
    "        new = ss1+'.'+ss2 # Adding the . into the value\n",
    "        new_value_list.append(float(new)) # Adding the new value to a list}\n",
    "    df[column] = pd.Series(new_value_list) # Converting it to a Series and inserting replacing the extracted values"
   ]
  },
  {
   "cell_type": "code",
   "execution_count": 5,
   "metadata": {},
   "outputs": [],
   "source": [
    "df_MEP.columns = [\"Date\", 'Value']"
   ]
  },
  {
   "cell_type": "code",
   "execution_count": 6,
   "metadata": {},
   "outputs": [],
   "source": [
    "decimals(df_MEP, 'Value')"
   ]
  },
  {
   "cell_type": "code",
   "execution_count": 7,
   "metadata": {},
   "outputs": [
    {
     "data": {
      "text/html": [
       "<div>\n",
       "<style scoped>\n",
       "    .dataframe tbody tr th:only-of-type {\n",
       "        vertical-align: middle;\n",
       "    }\n",
       "\n",
       "    .dataframe tbody tr th {\n",
       "        vertical-align: top;\n",
       "    }\n",
       "\n",
       "    .dataframe thead th {\n",
       "        text-align: right;\n",
       "    }\n",
       "</style>\n",
       "<table border=\"1\" class=\"dataframe\">\n",
       "  <thead>\n",
       "    <tr style=\"text-align: right;\">\n",
       "      <th></th>\n",
       "      <th>Date</th>\n",
       "      <th>Value</th>\n",
       "    </tr>\n",
       "  </thead>\n",
       "  <tbody>\n",
       "    <tr>\n",
       "      <th>0</th>\n",
       "      <td>05-11-2021</td>\n",
       "      <td>181.26</td>\n",
       "    </tr>\n",
       "    <tr>\n",
       "      <th>1</th>\n",
       "      <td>04-11-2021</td>\n",
       "      <td>180.56</td>\n",
       "    </tr>\n",
       "    <tr>\n",
       "      <th>2</th>\n",
       "      <td>03-11-2021</td>\n",
       "      <td>180.07</td>\n",
       "    </tr>\n",
       "    <tr>\n",
       "      <th>3</th>\n",
       "      <td>02-11-2021</td>\n",
       "      <td>179.32</td>\n",
       "    </tr>\n",
       "    <tr>\n",
       "      <th>4</th>\n",
       "      <td>01-11-2021</td>\n",
       "      <td>179.22</td>\n",
       "    </tr>\n",
       "  </tbody>\n",
       "</table>\n",
       "</div>"
      ],
      "text/plain": [
       "         Date   Value\n",
       "0  05-11-2021  181.26\n",
       "1  04-11-2021  180.56\n",
       "2  03-11-2021  180.07\n",
       "3  02-11-2021  179.32\n",
       "4  01-11-2021  179.22"
      ]
     },
     "execution_count": 7,
     "metadata": {},
     "output_type": "execute_result"
    }
   ],
   "source": [
    "df_MEP.head(5)"
   ]
  },
  {
   "cell_type": "code",
   "execution_count": 8,
   "metadata": {},
   "outputs": [
    {
     "data": {
      "text/html": [
       "<div>\n",
       "<style scoped>\n",
       "    .dataframe tbody tr th:only-of-type {\n",
       "        vertical-align: middle;\n",
       "    }\n",
       "\n",
       "    .dataframe tbody tr th {\n",
       "        vertical-align: top;\n",
       "    }\n",
       "\n",
       "    .dataframe thead th {\n",
       "        text-align: right;\n",
       "    }\n",
       "</style>\n",
       "<table border=\"1\" class=\"dataframe\">\n",
       "  <thead>\n",
       "    <tr style=\"text-align: right;\">\n",
       "      <th></th>\n",
       "      <th>Date</th>\n",
       "      <th>Value</th>\n",
       "    </tr>\n",
       "  </thead>\n",
       "  <tbody>\n",
       "    <tr>\n",
       "      <th>591</th>\n",
       "      <td>24-03-2020</td>\n",
       "      <td>91.4</td>\n",
       "    </tr>\n",
       "    <tr>\n",
       "      <th>592</th>\n",
       "      <td>23-03-2020</td>\n",
       "      <td>91.4</td>\n",
       "    </tr>\n",
       "    <tr>\n",
       "      <th>593</th>\n",
       "      <td>22-03-2020</td>\n",
       "      <td>91.4</td>\n",
       "    </tr>\n",
       "    <tr>\n",
       "      <th>594</th>\n",
       "      <td>21-03-2020</td>\n",
       "      <td>91.4</td>\n",
       "    </tr>\n",
       "    <tr>\n",
       "      <th>595</th>\n",
       "      <td>20-03-2020</td>\n",
       "      <td>91.4</td>\n",
       "    </tr>\n",
       "  </tbody>\n",
       "</table>\n",
       "</div>"
      ],
      "text/plain": [
       "           Date  Value\n",
       "591  24-03-2020   91.4\n",
       "592  23-03-2020   91.4\n",
       "593  22-03-2020   91.4\n",
       "594  21-03-2020   91.4\n",
       "595  20-03-2020   91.4"
      ]
     },
     "execution_count": 8,
     "metadata": {},
     "output_type": "execute_result"
    }
   ],
   "source": [
    "df_MEP.tail(5) # Checking last values with changes made"
   ]
  },
  {
   "cell_type": "code",
   "execution_count": 9,
   "metadata": {},
   "outputs": [],
   "source": [
    "df_MEP.to_csv('H:\\My Drive\\Formacion\\Data Science\\Financial\\FinancialPF\\CSVs\\MEP.csv', index=False)"
   ]
  },
  {
   "cell_type": "markdown",
   "metadata": {},
   "source": [
    "# In case of using the web's API"
   ]
  },
  {
   "cell_type": "code",
   "execution_count": 14,
   "metadata": {},
   "outputs": [],
   "source": [
    "# API Ámbito\n",
    "request_url_oficial = 'https://mercados.ambito.com//dolar/mep/historico-general/' #20-10-2021/20-11-2021'\n",
    "request_url = 'https://mercados.ambito.com//dolarrava/mep/historico-general/' #20-10-2021/20-11-2021'\n",
    "\n",
    "request_url = request_url+date_start+'/'+date_today\n",
    "request_url_oficial = request_url_oficial+date_start+'/'+date_today"
   ]
  },
  {
   "cell_type": "code",
   "execution_count": 15,
   "metadata": {},
   "outputs": [],
   "source": [
    "response = requests.get(request_url)\n",
    "response_oficial = requests.get(request_url_oficial)"
   ]
  },
  {
   "cell_type": "code",
   "execution_count": 16,
   "metadata": {},
   "outputs": [],
   "source": [
    "response = response.text[1:]\n",
    "response = response[:-1]\n",
    "response = response.replace('],[', '];[')\n",
    "response_oficial = response_oficial.text[1:]\n",
    "response_oficial = response_oficial[:-1]\n",
    "response_oficial = response_oficial.replace('],[', '];[')"
   ]
  },
  {
   "cell_type": "code",
   "execution_count": 17,
   "metadata": {},
   "outputs": [
    {
     "data": {
      "text/plain": [
       "'[\"08-11-2021\";\"99,58\";\"105,58\"]'"
      ]
     },
     "execution_count": 17,
     "metadata": {},
     "output_type": "execute_result"
    }
   ],
   "source": [
    "(response).split(';')[10].replace('\",\"', '\";\"') # Identifying tuples\n",
    "(response_oficial).split(';')[10].replace('\",\"', '\";\"') # Identifying tuples"
   ]
  },
  {
   "cell_type": "code",
   "execution_count": 18,
   "metadata": {},
   "outputs": [
    {
     "data": {
      "text/plain": [
       "['08-11-2021', '99,58', '105,58']"
      ]
     },
     "execution_count": 18,
     "metadata": {},
     "output_type": "execute_result"
    }
   ],
   "source": [
    "(response).split(';')[10].replace('\",\"', '\";\"').replace('[','').replace(']','').replace('\"','').split(';') # Splitting values\n",
    "(response_oficial).split(';')[10].replace('\",\"', '\";\"').replace('[','').replace(']','').replace('\"','').split(';') # Splitting values"
   ]
  },
  {
   "cell_type": "code",
   "execution_count": 19,
   "metadata": {},
   "outputs": [],
   "source": [
    "prices = []\n",
    "for i in range (0,1000):\n",
    "    try:\n",
    "        prices.append(((response).split(';')[i].replace('\",\"', '\";\"').replace('[','').replace(']','').replace('\"','').replace(',','.').split(';')))\n",
    "    except:\n",
    "        pass\n",
    "\n",
    "prices_oficial = []\n",
    "for i in range (0,1000):\n",
    "    try:\n",
    "        prices_oficial.append(((response_oficial).split(';')[i].replace('\",\"', '\";\"').replace('[','').replace(']','').replace('\"','').replace(',','.').split(';')))\n",
    "    except:\n",
    "        pass"
   ]
  },
  {
   "cell_type": "code",
   "execution_count": 24,
   "metadata": {},
   "outputs": [],
   "source": [
    "MEP = pd.DataFrame(prices[1:], columns=prices[0])\n",
    "MEP.Referencia = MEP.Referencia.astype('float')\n",
    "Oficial = pd.DataFrame(prices_oficial[1:], columns=prices_oficial[0])\n",
    "Oficial.Venta = Oficial.Venta.astype('float')"
   ]
  },
  {
   "cell_type": "code",
   "execution_count": 28,
   "metadata": {},
   "outputs": [],
   "source": [
    "MEP.columns = ['Fecha', 'Venta']"
   ]
  },
  {
   "cell_type": "code",
   "execution_count": 25,
   "metadata": {},
   "outputs": [],
   "source": [
    "MEP.drop_duplicates(subset=['Fecha'], keep='first', inplace=True)\n",
    "Oficial.drop_duplicates(subset=['Fecha'], keep='first', inplace=True)"
   ]
  },
  {
   "cell_type": "code",
   "execution_count": 30,
   "metadata": {},
   "outputs": [],
   "source": [
    "path = 'H:\\My Drive\\Formacion\\Data Science\\Financial\\FinancialPF\\CSVs\\\\'\n",
    "MEP.to_csv(path+'MEP_API.csv', index=False)\n",
    "Oficial.to_csv(path+'Oficial_API.csv', index=False)"
   ]
  }
 ],
 "metadata": {
  "interpreter": {
   "hash": "b3ba2566441a7c06988d0923437866b63cedc61552a5af99d1f4fb67d367b25f"
  },
  "kernelspec": {
   "display_name": "Python 3.8.8 64-bit ('base': conda)",
   "name": "python3"
  },
  "language_info": {
   "codemirror_mode": {
    "name": "ipython",
    "version": 3
   },
   "file_extension": ".py",
   "mimetype": "text/x-python",
   "name": "python",
   "nbconvert_exporter": "python",
   "pygments_lexer": "ipython3",
   "version": "3.8.8"
  }
 },
 "nbformat": 4,
 "nbformat_minor": 4
}
