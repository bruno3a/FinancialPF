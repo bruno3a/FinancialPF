{
 "cells": [
  {
   "cell_type": "code",
   "execution_count": 3,
   "metadata": {},
   "outputs": [],
   "source": [
    "import pandas as pd\n",
    "import numpy as np\n",
    "import os\n",
    "import matplotlib.pyplot as plt"
   ]
  },
  {
   "cell_type": "code",
   "execution_count": 4,
   "metadata": {},
   "outputs": [],
   "source": [
    "base_html = 'C://Users//bruno//Documents//DS//DataSets Grandes//Historicos Economicos//BLUE Historico.html'"
   ]
  },
  {
   "cell_type": "markdown",
   "metadata": {},
   "source": [
    "Fuente: https://www.ambito.com/contenidos/dolar-informal-historico.html"
   ]
  },
  {
   "cell_type": "code",
   "execution_count": 5,
   "metadata": {},
   "outputs": [
    {
     "data": {
      "text/html": [
       "<div>\n",
       "<style scoped>\n",
       "    .dataframe tbody tr th:only-of-type {\n",
       "        vertical-align: middle;\n",
       "    }\n",
       "\n",
       "    .dataframe tbody tr th {\n",
       "        vertical-align: top;\n",
       "    }\n",
       "\n",
       "    .dataframe thead th {\n",
       "        text-align: right;\n",
       "    }\n",
       "</style>\n",
       "<table border=\"1\" class=\"dataframe\">\n",
       "  <thead>\n",
       "    <tr style=\"text-align: right;\">\n",
       "      <th></th>\n",
       "      <th>Fecha</th>\n",
       "      <th>Compra</th>\n",
       "      <th>Venta</th>\n",
       "    </tr>\n",
       "  </thead>\n",
       "  <tbody>\n",
       "    <tr>\n",
       "      <th>0</th>\n",
       "      <td>08-07-2021</td>\n",
       "      <td>16900</td>\n",
       "      <td>17400</td>\n",
       "    </tr>\n",
       "    <tr>\n",
       "      <th>1</th>\n",
       "      <td>07-07-2021</td>\n",
       "      <td>16700</td>\n",
       "      <td>17200</td>\n",
       "    </tr>\n",
       "    <tr>\n",
       "      <th>2</th>\n",
       "      <td>06-07-2021</td>\n",
       "      <td>16600</td>\n",
       "      <td>17100</td>\n",
       "    </tr>\n",
       "    <tr>\n",
       "      <th>3</th>\n",
       "      <td>05-07-2021</td>\n",
       "      <td>16600</td>\n",
       "      <td>17100</td>\n",
       "    </tr>\n",
       "    <tr>\n",
       "      <th>4</th>\n",
       "      <td>02-07-2021</td>\n",
       "      <td>16500</td>\n",
       "      <td>17000</td>\n",
       "    </tr>\n",
       "  </tbody>\n",
       "</table>\n",
       "</div>"
      ],
      "text/plain": [
       "        Fecha  Compra  Venta\n",
       "0  08-07-2021   16900  17400\n",
       "1  07-07-2021   16700  17200\n",
       "2  06-07-2021   16600  17100\n",
       "3  05-07-2021   16600  17100\n",
       "4  02-07-2021   16500  17000"
      ]
     },
     "execution_count": 5,
     "metadata": {},
     "output_type": "execute_result"
    }
   ],
   "source": [
    "blue_hist = pd.read_html(base_html) # this parses all the tables in webpages to a list\n",
    "df_blue = blue_hist[0]\n",
    "df_blue.head() # Values are int without decimals, which is incorrect due to the real value's nature"
   ]
  },
  {
   "cell_type": "code",
   "execution_count": null,
   "metadata": {},
   "outputs": [],
   "source": [
    "new_value_list = []\n",
    "for value in df_blue.Compra:\n",
    "    ss1, ss2 = str(value)[:2], str(value)[2:] # Slicing the value as string to get separated the number\n",
    "    new = ss1+'.'+ss2 # Adding the . into the value\n",
    "    new_value_list.append(float(new)) # Adding the new value to a list}\n",
    "df_.Referencia = pd.Series(new_value_list) # Converting it to a Series and inserting replacing the extracted values"
   ]
  },
  {
   "cell_type": "code",
   "execution_count": null,
   "metadata": {},
   "outputs": [],
   "source": [
    "def decimals(df, column):\n",
    "    '''Converts integer value into float considering last 2 numbers as decimals. df parameter to specify df, column parameter to specify target column of df'''\n",
    "    new_value_list = []\n",
    "    for value in df_blue.Compra:\n",
    "        ss1, ss2 = str(value)[:2], str(value)[2:] # Slicing the value as string to get separated the number\n",
    "        new = ss1+'.'+ss2 # Adding the . into the value\n",
    "        new_value_list.append(float(new)) # Adding the new value to a list}\n",
    "    df_.columna = pd.Series(new_value_list) # Converting it to a Series and inserting replacing the extracted values"
   ]
  }
 ],
 "metadata": {
  "kernelspec": {
   "display_name": "Python 3",
   "language": "python",
   "name": "python3"
  },
  "language_info": {
   "codemirror_mode": {
    "name": "ipython",
    "version": 3
   },
   "file_extension": ".py",
   "mimetype": "text/x-python",
   "name": "python",
   "nbconvert_exporter": "python",
   "pygments_lexer": "ipython3",
   "version": "3.7.9"
  }
 },
 "nbformat": 4,
 "nbformat_minor": 4
}
