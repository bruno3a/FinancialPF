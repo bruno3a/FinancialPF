{
 "cells": [
  {
   "cell_type": "markdown",
   "metadata": {},
   "source": [
    "## IOL Main Assets"
   ]
  },
  {
   "cell_type": "markdown",
   "metadata": {},
   "source": [
    "## https://api.invertironline.com/#/"
   ]
  },
  {
   "cell_type": "code",
   "execution_count": 12,
   "metadata": {},
   "outputs": [],
   "source": [
    "import pandas as pd\n",
    "import json\n",
    "import requests"
   ]
  },
  {
   "cell_type": "code",
   "execution_count": 24,
   "metadata": {},
   "outputs": [],
   "source": [
    "auth_url = 'https://api.invertironline.com/token'\n",
    "portfolio_url = 'https://api.invertironline.com/api/v2/portafolio/argentina'\n",
    "credentials = json.load(open('H:\\My Drive\\Formacion\\Data Science\\APIs\\IOL_auth.json'))\n",
    "token = credentials['token'][0]\n",
    "#refresh_token = credentials['refresh_token']"
   ]
  },
  {
   "cell_type": "code",
   "execution_count": 13,
   "metadata": {},
   "outputs": [],
   "source": [
    "refresh_token = requests.post(auth_url, {\n",
    "    'grant_type': 'refresh_token',\n",
    "    'refresh_token': credentials['refresh_token'],\n",
    "})"
   ]
  },
  {
   "cell_type": "code",
   "execution_count": null,
   "metadata": {},
   "outputs": [],
   "source": [
    "refresh_token_response = refresh_token.json()\n",
    "refresh_token_response['access_token']\n",
    "#refresh_token_response['refresh_token']"
   ]
  },
  {
   "cell_type": "code",
   "execution_count": null,
   "metadata": {},
   "outputs": [],
   "source": [
    "ger_portfolio_url_response = requests.get(portfolio_url, params={'Authorization': 'bearer '+token}).json()\n",
    "ger_portfolio_url_response"
   ]
  },
  {
   "cell_type": "code",
   "execution_count": 25,
   "metadata": {},
   "outputs": [
    {
     "data": {
      "text/plain": [
       "{'message': 'Authorization has been denied for this request.'}"
      ]
     },
     "execution_count": 25,
     "metadata": {},
     "output_type": "execute_result"
    }
   ],
   "source": [
    "#ger_portfolio_url_response = requests.get(portfolio_url, params={'Authorization': 'bearer '+refresh_token_response['access_token']}).json()\n",
    "#ger_portfolio_url_response"
   ]
  }
 ],
 "metadata": {
  "interpreter": {
   "hash": "b3ba2566441a7c06988d0923437866b63cedc61552a5af99d1f4fb67d367b25f"
  },
  "kernelspec": {
   "display_name": "Python 3.8.8 64-bit ('base': conda)",
   "language": "python",
   "name": "python3"
  },
  "language_info": {
   "codemirror_mode": {
    "name": "ipython",
    "version": 3
   },
   "file_extension": ".py",
   "mimetype": "text/x-python",
   "name": "python",
   "nbconvert_exporter": "python",
   "pygments_lexer": "ipython3",
   "version": "3.8.8"
  },
  "orig_nbformat": 4
 },
 "nbformat": 4,
 "nbformat_minor": 2
}
