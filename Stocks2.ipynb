{
 "cells": [
  {
   "cell_type": "code",
   "execution_count": 2,
   "metadata": {},
   "outputs": [],
   "source": [
    "import requests\n",
    "import json"
   ]
  },
  {
   "cell_type": "code",
   "execution_count": 148,
   "metadata": {},
   "outputs": [
    {
     "name": "stdout",
     "output_type": "stream",
     "text": [
      "{\"quoteResponse\":{\"result\":[],\"error\":null}}\n"
     ]
    }
   ],
   "source": [
    "url = \"https://yfapi.net/v6/finance/quote\"\n",
    "# https://www.yahoofinanceapi.com/tutorial\n",
    "shares = ['SOXX', 'FIVG', 'LIT', 'TSLA', 'MELI', 'AAPL', 'AMZN', 'X', 'QCOM', 'NVDA']\n",
    "querystring = {\"symbols\": '\"'+'\",\"'.join(shares)+'\"'}\n",
    "credentials = json.load(open('H:\\My Drive\\Formacion\\Data Science\\APIs\\API_Key yfapi.json'))\n",
    "API_Key = credentials['API_Key'][0]\n",
    "\n",
    "headers = {\n",
    "    'x-api-key': API_Key \n",
    "    }\n",
    "\n",
    "response = requests.request(\"GET\", url, headers=headers, params=querystring)\n",
    "\n",
    "print(response.text)"
   ]
  },
  {
   "cell_type": "code",
   "execution_count": 144,
   "metadata": {},
   "outputs": [
    {
     "name": "stdout",
     "output_type": "stream",
     "text": [
      "\"SOXX\",\"FIVG\",\"LIT\",\"TSLA\",\"MELI\",\"AAPL\",\"AMZN\",\"X\",\"QCOM\",\"NVDA\"\n"
     ]
    }
   ],
   "source": [
    "print('\"'+'\",\"'.join(shares)+'\"')"
   ]
  },
  {
   "cell_type": "code",
   "execution_count": 97,
   "metadata": {},
   "outputs": [],
   "source": [
    "values_interest = ['symbol', 'shortName', 'longName', 'fiftyDayAverage', 'fiftyTwoWeekHigh', 'fiftyTwoWeekRange', 'twoHundredDayAverage', 'marketCap', 'quoteType', 'regularMarketDayHigh', 'regularMarketDayLow', 'regularMarketPrice', 'ytdReturn']"
   ]
  },
  {
   "cell_type": "code",
   "execution_count": 140,
   "metadata": {},
   "outputs": [],
   "source": [
    "values = json.loads(response.text)['quoteResponse']['result']"
   ]
  },
  {
   "cell_type": "code",
   "execution_count": 79,
   "metadata": {},
   "outputs": [],
   "source": [
    "# values = lista con 2 diccionarios"
   ]
  },
  {
   "cell_type": "code",
   "execution_count": 141,
   "metadata": {},
   "outputs": [],
   "source": [
    "for result in json.loads(response.text)['quoteResponse']['result']:\n",
    "    print (result['symbol'])"
   ]
  },
  {
   "cell_type": "code",
   "execution_count": 109,
   "metadata": {},
   "outputs": [],
   "source": [
    "def get_ppal_values(symbol):\n",
    "    for result in values:\n",
    "        if result['symbol'] == symbol:\n",
    "            for key in values_interest:\n",
    "                try:\n",
    "                    print(key,':', result[key])\n",
    "                except:\n",
    "                    print(key+':', \"N/A\")\n",
    "        else:\n",
    "            pass"
   ]
  },
  {
   "cell_type": "code",
   "execution_count": 110,
   "metadata": {},
   "outputs": [
    {
     "name": "stdout",
     "output_type": "stream",
     "text": [
      "symbol : FIVG\n",
      "shortName : Defiance Next Gen Connectivity \n",
      "longName : Defiance 5G Next Gen Connectivity ETF\n",
      "fiftyDayAverage : 38.1049\n",
      "fiftyTwoWeekHigh : 41.44\n",
      "fiftyTwoWeekRange : 31.422 - 41.44\n",
      "twoHundredDayAverage : 37.042225\n",
      "marketCap: N/A\n",
      "quoteType : ETF\n",
      "regularMarketDayHigh : 41.4\n",
      "regularMarketDayLow : 41.09\n",
      "regularMarketPrice : 41.14\n",
      "ytdReturn : 13.72\n"
     ]
    }
   ],
   "source": [
    "get_ppal_values('FIVG')"
   ]
  }
 ],
 "metadata": {
  "interpreter": {
   "hash": "b3ba2566441a7c06988d0923437866b63cedc61552a5af99d1f4fb67d367b25f"
  },
  "kernelspec": {
   "display_name": "Python 3.8.8 64-bit ('base': conda)",
   "language": "python",
   "name": "python3"
  },
  "language_info": {
   "codemirror_mode": {
    "name": "ipython",
    "version": 3
   },
   "file_extension": ".py",
   "mimetype": "text/x-python",
   "name": "python",
   "nbconvert_exporter": "python",
   "pygments_lexer": "ipython3",
   "version": "3.8.8"
  },
  "orig_nbformat": 4
 },
 "nbformat": 4,
 "nbformat_minor": 2
}
